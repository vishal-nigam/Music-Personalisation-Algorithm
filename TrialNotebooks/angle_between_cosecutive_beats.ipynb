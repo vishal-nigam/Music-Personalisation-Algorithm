{
 "cells": [
  {
   "cell_type": "code",
   "execution_count": 23,
   "metadata": {},
   "outputs": [],
   "source": [
    "import librosa, librosa.display\n",
    "import pandas as pd\n",
    "import numpy as np\n",
    "from numpy  import array\n",
    "from itertools import tee, islice, chain\n",
    "from math import atan2,degrees"
   ]
  },
  {
   "cell_type": "code",
   "execution_count": 24,
   "metadata": {},
   "outputs": [],
   "source": [
    "# read audio file \n",
    "y, sr = librosa.load('D:/learning/DataScience/data/musicFiles/Bulleya - DJ LIJO & VIKAS J REMIX.mp3',duration = 60) "
   ]
  },
  {
   "cell_type": "code",
   "execution_count": 25,
   "metadata": {},
   "outputs": [
    {
     "name": "stderr",
     "output_type": "stream",
     "text": [
      "C:\\ProgramData\\Anaconda3\\lib\\site-packages\\scipy\\fftpack\\basic.py:160: FutureWarning: Using a non-tuple sequence for multidimensional indexing is deprecated; use `arr[tuple(seq)]` instead of `arr[seq]`. In the future this will be interpreted as an array index, `arr[np.array(seq)]`, which will result either in an error or a different result.\n",
      "  z[index] = x\n"
     ]
    },
    {
     "name": "stdout",
     "output_type": "stream",
     "text": [
      "[   3   32   59   87  114  142  169  197  224  251  279  307  334  362\n",
      "  389  416  444  471  499  527  554  582  609  637  664  692  719  746\n",
      "  774  801  829  857  888  918  946  973 1001 1031 1061 1090 1119 1147\n",
      " 1174 1202 1230 1259 1289 1317 1345 1373 1401 1428 1456 1483 1511 1537\n",
      " 1565 1592 1621 1650 1679 1709 1736 1764 1791 1819 1846 1873 1901 1929\n",
      " 1956 1983 2011 2038 2066 2093 2121 2148 2176 2203 2231 2258 2286 2313\n",
      " 2341 2368 2395 2423 2451 2478 2506 2533]\n",
      "92\n"
     ]
    },
    {
     "name": "stderr",
     "output_type": "stream",
     "text": [
      "C:\\ProgramData\\Anaconda3\\lib\\site-packages\\mkl_fft\\_numpy_fft.py:1044: FutureWarning: Using a non-tuple sequence for multidimensional indexing is deprecated; use `arr[tuple(seq)]` instead of `arr[seq]`. In the future this will be interpreted as an array index, `arr[np.array(seq)]`, which will result either in an error or a different result.\n",
      "  output = mkl_fft.rfftn_numpy(a, s, axes)\n"
     ]
    }
   ],
   "source": [
    "# approach 1 - onset detection and dynamic programming\n",
    "tempo, beat_times = librosa.beat.beat_track(y, sr=sr)\n",
    "print(beat_times)\n",
    "print(len(beat_times))"
   ]
  },
  {
   "cell_type": "code",
   "execution_count": 26,
   "metadata": {},
   "outputs": [
    {
     "name": "stdout",
     "output_type": "stream",
     "text": [
      "2584\n",
      "[0.         0.         0.         ... 0.         0.         0.01287328]\n"
     ]
    }
   ],
   "source": [
    "hop_length = 512\n",
    "start_bpm=120.0\n",
    "trim=True\n",
    "tightness=100 \n",
    "onset_envelope = librosa.onset.onset_strength(y=y,sr=sr,hop_length=hop_length,aggregate=np.median)\n",
    "print(len(onset_envelope))\n",
    "print(onset_envelope)"
   ]
  },
  {
   "cell_type": "code",
   "execution_count": 27,
   "metadata": {},
   "outputs": [],
   "source": [
    "test = []\n",
    "for i in  beat_times:\n",
    "    test.append(onset_envelope[i])\n"
   ]
  },
  {
   "cell_type": "code",
   "execution_count": 28,
   "metadata": {},
   "outputs": [
    {
     "name": "stdout",
     "output_type": "stream",
     "text": [
      "92\n",
      "[25.624122297578648, 7.06219968326282, 0.49640956812781956, 6.073085729115821, 6.665821159354357, 6.859649373449226, 0.30925970768227806, 7.040692522770002, 10.564315905845795, 5.927920534688825, 0.0, 6.475012575107187, 8.595871050849972, 6.018549626162066, 7.308580460597903, 23.69122360312343, 11.738307609342364, 5.8123373695538305, 2.2777551254101036, 4.973458338925541, 6.054502306640206, 4.848484492250565, 7.442551537441592, 5.292863262926314, 7.288112554139683, 4.1086463943965015, 3.975465696183001, 5.942211859186049, 6.566096907654419, 5.907455346272831, 4.842035526699135, 2.3035150636929753, 0.0, 1.3038086679353755, 4.130711927432985, 2.4095522472972313, 2.306704472804671, 0.01230827244822752, 0.4687366869825009, 1.8218609174225264, 0.3467195807506682, 0.5156436454873714, 3.1480768969846067, 0.0, 0.9825200001921264, 0.0, 1.5007996845705895, 2.83862117293104, 2.3183496601881117, 1.346527895557069, 0.0, 1.4921037397084551, 0.004502945120163915, 0.31655718519719933, 3.8378524865158044, 5.001757594660537, 0.1721592560511318, 1.1793321351922417, 2.6561977156161527, 2.7544085742099043, 0.03359773966371238, 4.826384353085256, 3.620133930858767, 4.075660449083543, 6.084249430400621, 5.32905893854286, 2.4691007669311733, 6.428656578083206, 4.368269545945981, 4.294234688224611, 5.431240336337174, 3.4195208875625207, 5.59878827312491, 4.004597782435467, 2.029031672247422, 6.015122216386025, 4.545021015358566, 6.088396716375922, 3.4740817940656754, 4.776577384667929, 5.292076419809259, 3.649738273773802, 5.08500923188329, 5.576049409054104, 5.231649219894688, 4.25352703794384, 0.0, 7.333598464609329, 6.168823664693863, 4.196005547223503, 0.005809010913790935, 7.931374357762939]\n"
     ]
    }
   ],
   "source": [
    "print(len(test))\n",
    "print(test)"
   ]
  },
  {
   "cell_type": "code",
   "execution_count": 29,
   "metadata": {},
   "outputs": [],
   "source": [
    "# Determines the angle of a straight line drawn between point one and two.\n",
    "def getAngleBetweenTwoPoints(p1x,p1y,p2x,p2y):\n",
    "    xDiff = p2x - p1x\n",
    "    yDiff = p2y - p1y\n",
    "    angle = degrees(atan2(yDiff, xDiff))\n",
    "    if(angle >= 0):\n",
    "        return angle\n",
    "    else:\n",
    "        return (angle+360)\n",
    "def getPreviousAndNext(iterable_data):\n",
    "    prevs, items, nexts = tee(iterable_data, 3)\n",
    "    prevs = chain([None], prevs)\n",
    "    nexts = chain(islice(nexts, 1, None), [None])\n",
    "    return zip(prevs, items, nexts)\n",
    "def getArrayOfAnglesBetweenConsecutivepointsInArray(iterable_data):\n",
    "    xx = 1\n",
    "    yy = 2\n",
    "    np_arr =  np.array([])\n",
    "    for previous, item, nxt in getPreviousAndNext(iterable_data):\n",
    "        if(nxt == None):\n",
    "            np_arr = np.append(np_arr,0)\n",
    "        else:\n",
    "            tempvar = getAngleBetweenTwoPoints(xx,item,yy,nxt)\n",
    "            np_arr = np.append(np_arr,tempvar)\n",
    "    return np_arr"
   ]
  },
  {
   "cell_type": "code",
   "execution_count": 30,
   "metadata": {},
   "outputs": [
    {
     "name": "stdout",
     "output_type": "stream",
     "text": [
      "[273.08375623 278.65985967  79.83386441  30.65672456  10.96951582\n",
      " 278.67990991  81.55012215  74.15612296 282.17137738 279.57525968\n",
      "  81.22061067  64.75578585 291.20623936  52.21804229  86.50698742\n",
      " 274.7823194  279.57835262 285.79720903  69.6471246   47.23019409\n",
      " 309.66467878  68.9185959  294.94708226  63.38040608 287.45931105\n",
      " 352.41394939  63.04875674  31.95942256 326.6294389  313.18582798\n",
      " 291.50098078 293.46658797  52.51238177  70.51907349 300.15674272\n",
      " 354.12790287 293.54971563  24.53330342  53.53447078 304.1333902\n",
      "   9.58811968  69.19938348 287.6226714   44.49483271 315.50516729\n",
      "  56.32402529  53.22247811 332.51332435 315.81872718 306.5994551\n",
      "  56.17021668 303.90991601  17.33075378  74.14617427  49.3316006\n",
      " 281.69816016  45.20475264  55.89769026   5.60907996 290.18027277\n",
      "  78.21449423 309.65924956  24.49052323  63.53303422 322.94024437\n",
      " 289.27245815  75.8261365  295.88941861 355.76583988  48.66827153\n",
      " 296.43138304  65.3510389  302.099128   296.84780416  75.91672302\n",
      " 304.22452749  57.05957204 290.93232176  52.48449887  27.27106167\n",
      " 301.33673378  55.13381765  26.15289309 340.99628255 315.63365931\n",
      " 283.2299271   82.23511129 310.64724648 296.87995332 283.42269843\n",
      "  82.80876486   0.        ]\n"
     ]
    }
   ],
   "source": [
    "print(getArrayOfAnglesBetweenConsecutivepointsInArray(test))"
   ]
  },
  {
   "cell_type": "code",
   "execution_count": null,
   "metadata": {},
   "outputs": [],
   "source": []
  }
 ],
 "metadata": {
  "kernelspec": {
   "display_name": "Python 3",
   "language": "python",
   "name": "python3"
  },
  "language_info": {
   "codemirror_mode": {
    "name": "ipython",
    "version": 3
   },
   "file_extension": ".py",
   "mimetype": "text/x-python",
   "name": "python",
   "nbconvert_exporter": "python",
   "pygments_lexer": "ipython3",
   "version": "3.7.0"
  }
 },
 "nbformat": 4,
 "nbformat_minor": 2
}
