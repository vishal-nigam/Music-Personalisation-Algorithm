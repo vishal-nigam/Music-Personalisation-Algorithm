{
 "cells": [
  {
   "cell_type": "code",
   "execution_count": 44,
   "metadata": {},
   "outputs": [],
   "source": [
    "import pandas as pd\n",
    "import numpy as np\n",
    "from numpy  import array\n",
    "import librosa\n",
    "import os\n",
    "import ntpath\n",
    "import pathlib\n",
    "from pathlib import Path\n",
    "import pickle\n",
    "from tinytag import TinyTag\n",
    "from pydub import AudioSegment\n",
    "from pydub.utils import make_chunks\n",
    "from itertools import tee, islice, chain\n",
    "from math import atan2,degrees\n"
   ]
  },
  {
   "cell_type": "code",
   "execution_count": 45,
   "metadata": {},
   "outputs": [],
   "source": [
    "df = pd.read_pickle(\"D:/learning/DataScience/data/prj/featureExtraction/picklle_file/audio_information_april_6.pkl\")"
   ]
  },
  {
   "cell_type": "code",
   "execution_count": 46,
   "metadata": {},
   "outputs": [],
   "source": [
    "# Determines the angle of a straight line drawn between point one and two.\n",
    "def getAngleBetweenTwoPoints(p1x,p1y,p2x,p2y):\n",
    "    xDiff = p2x - p1x\n",
    "    yDiff = p2y - p1y\n",
    "    angle = degrees(atan2(yDiff, xDiff))\n",
    "    if(angle >= 0):\n",
    "        return angle\n",
    "    else:\n",
    "        return (angle+360)\n",
    "def getPreviousAndNext(iterable_data):\n",
    "    prevs, items, nexts = tee(iterable_data, 3)\n",
    "    prevs = chain([None], prevs)\n",
    "    nexts = chain(islice(nexts, 1, None), [None])\n",
    "    return zip(prevs, items, nexts)\n",
    "def getArrayOfAnglesBetweenConsecutivepointsInArray(iterable_data):\n",
    "    xx = 1\n",
    "    yy = 2\n",
    "    np_arr =  np.array([])\n",
    "    for previous, item, nxt in getPreviousAndNext(iterable_data):\n",
    "        if(nxt == None):\n",
    "            np_arr = np.append(np_arr,0)\n",
    "        else:\n",
    "            tempvar = getAngleBetweenTwoPoints(xx,item,yy,nxt)\n",
    "            np_arr = np.append(np_arr,tempvar)\n",
    "    return np_arr"
   ]
  },
  {
   "cell_type": "code",
   "execution_count": 47,
   "metadata": {},
   "outputs": [],
   "source": [
    "def getVocalPercentage(full,background,foreground):\n",
    "    m =full/(background+foreground)\n",
    "    full_new = full/m\n",
    "    return (foreground/full_new)*100"
   ]
  },
  {
   "cell_type": "code",
   "execution_count": 48,
   "metadata": {},
   "outputs": [],
   "source": [
    "def getAnglesBetweenConsecutiveBeats(beat_times,onset_envelope):\n",
    "    beat_strength = []\n",
    "    for j in  beat_times:\n",
    "        beat_strength.append(onset_envelope[j])\n",
    "    return  getArrayOfAnglesBetweenConsecutivepointsInArray(beat_strength)\n"
   ]
  },
  {
   "cell_type": "code",
   "execution_count": 49,
   "metadata": {},
   "outputs": [],
   "source": [
    "def generateDataFrameWithHeader(header):\n",
    "    return pd.DataFrame(columns=header)"
   ]
  },
  {
   "cell_type": "code",
   "execution_count": 50,
   "metadata": {},
   "outputs": [],
   "source": [
    "def getFeatureList(i):\n",
    "    full_spectrum_mean = df['full_spectrum_mean'][i]\n",
    "    instruments_mean = df['instruments_mean'][i]\n",
    "    vocals_mean = df['vocals_mean'][i]\n",
    "    audio_waveform = df['audio_waveform'][i]\n",
    "    onset_envelope = df['onset_strength'][i]\n",
    "    beat_times = df['beat'][i]\n",
    "    tempo = df['tempo'][i]\n",
    "    \n",
    "    featurelist = []\n",
    "    for m in metadata_arr:\n",
    "        featurelist.append(df[m][i])\n",
    "    \n",
    "    featurelist.append(beat_times)\n",
    "    featurelist.append(tempo)\n",
    "    featurelist.append(getAnglesBetweenConsecutiveBeats(beat_times,onset_envelope))\n",
    "    featurelist.append(getVocalPercentage(full_spectrum_mean,instruments_mean,vocals_mean))\n",
    "    return featurelist"
   ]
  },
  {
   "cell_type": "code",
   "execution_count": 51,
   "metadata": {},
   "outputs": [],
   "source": [
    "def addFeatureToDataFrame(count_row):\n",
    "    i = 1\n",
    "    while (i<=count_row):\n",
    "        df_new.loc[i] = getFeatureList(i)\n",
    "        i += 1"
   ]
  },
  {
   "cell_type": "code",
   "execution_count": 52,
   "metadata": {},
   "outputs": [],
   "source": [
    "header = np.ndarray(0) \n",
    "metadata  = 'filename artist duration albumartist bitrate comment filesize genre title track samplerate track_total year'\n",
    "features = 'bpm tempo angles_between_consecutive_beats vocal_percentage'\n",
    "metadata_arr = metadata.split()\n",
    "features_arr = features.split()\n",
    "header = np.append(header,metadata_arr)\n",
    "header = np.append(header,features_arr)\n",
    "df_new = generateDataFrameWithHeader(header)\n",
    "addFeatureToDataFrame(df.shape[0])    \n",
    "    \n",
    "    \n",
    "    "
   ]
  },
  {
   "cell_type": "code",
   "execution_count": 53,
   "metadata": {},
   "outputs": [
    {
     "data": {
      "text/html": [
       "<div>\n",
       "<style scoped>\n",
       "    .dataframe tbody tr th:only-of-type {\n",
       "        vertical-align: middle;\n",
       "    }\n",
       "\n",
       "    .dataframe tbody tr th {\n",
       "        vertical-align: top;\n",
       "    }\n",
       "\n",
       "    .dataframe thead th {\n",
       "        text-align: right;\n",
       "    }\n",
       "</style>\n",
       "<table border=\"1\" class=\"dataframe\">\n",
       "  <thead>\n",
       "    <tr style=\"text-align: right;\">\n",
       "      <th></th>\n",
       "      <th>filename</th>\n",
       "      <th>artist</th>\n",
       "      <th>duration</th>\n",
       "      <th>albumartist</th>\n",
       "      <th>bitrate</th>\n",
       "      <th>comment</th>\n",
       "      <th>filesize</th>\n",
       "      <th>genre</th>\n",
       "      <th>title</th>\n",
       "      <th>track</th>\n",
       "      <th>samplerate</th>\n",
       "      <th>track_total</th>\n",
       "      <th>year</th>\n",
       "      <th>bpm</th>\n",
       "      <th>tempo</th>\n",
       "      <th>angles_between_consecutive_beats</th>\n",
       "      <th>vocal_percentage</th>\n",
       "    </tr>\n",
       "  </thead>\n",
       "  <tbody>\n",
       "    <tr>\n",
       "      <th>1</th>\n",
       "      <td>Bebe Rexha - Drinking About You (The Chainsmok...</td>\n",
       "      <td>Bebe Rexha</td>\n",
       "      <td>217.034914</td>\n",
       "      <td>The Chainsmokers  Bebe Rexha</td>\n",
       "      <td>320.0</td>\n",
       "      <td></td>\n",
       "      <td>8712257</td>\n",
       "      <td>Electronic</td>\n",
       "      <td>Drinking About You (The Chainsmokers Remix)</td>\n",
       "      <td>None</td>\n",
       "      <td>44100</td>\n",
       "      <td>None</td>\n",
       "      <td>2013</td>\n",
       "      <td>b'\\x80\\x04\\x95\\xb2\\x07\\x00\\x00\\x00\\x00\\x00\\x00...</td>\n",
       "      <td>b'\\x80\\x04\\x95k\\x00\\x00\\x00\\x00\\x00\\x00\\x00\\x8...</td>\n",
       "      <td>[270.2246881796245, 0.0, 0.0, 0.0, 89.55238582...</td>\n",
       "      <td>7.632351</td>\n",
       "    </tr>\n",
       "  </tbody>\n",
       "</table>\n",
       "</div>"
      ],
      "text/plain": [
       "                                            filename       artist    duration  \\\n",
       "1  Bebe Rexha - Drinking About You (The Chainsmok...  Bebe Rexha   217.034914   \n",
       "\n",
       "                    albumartist  bitrate comment filesize       genre  \\\n",
       "1  The Chainsmokers  Bebe Rexha    320.0          8712257  Electronic   \n",
       "\n",
       "                                         title track samplerate track_total  \\\n",
       "1  Drinking About You (The Chainsmokers Remix)  None      44100        None   \n",
       "\n",
       "   year                                                bpm  \\\n",
       "1  2013  b'\\x80\\x04\\x95\\xb2\\x07\\x00\\x00\\x00\\x00\\x00\\x00...   \n",
       "\n",
       "                                               tempo  \\\n",
       "1  b'\\x80\\x04\\x95k\\x00\\x00\\x00\\x00\\x00\\x00\\x00\\x8...   \n",
       "\n",
       "                    angles_between_consecutive_beats  vocal_percentage  \n",
       "1  [270.2246881796245, 0.0, 0.0, 0.0, 89.55238582...          7.632351  "
      ]
     },
     "execution_count": 53,
     "metadata": {},
     "output_type": "execute_result"
    }
   ],
   "source": [
    "df_new.head()"
   ]
  },
  {
   "cell_type": "code",
   "execution_count": 54,
   "metadata": {},
   "outputs": [
    {
     "name": "stdout",
     "output_type": "stream",
     "text": [
      "1\n"
     ]
    }
   ],
   "source": [
    "count_row_dfNew = df_new.shape[0]  # gives number of row count\n",
    "print(count_row_dfNew)"
   ]
  },
  {
   "cell_type": "code",
   "execution_count": 55,
   "metadata": {},
   "outputs": [],
   "source": [
    "df_new.to_pickle(\"D:/learning/DataScience/data/prj/featureExtraction/picklle_file/audio_information_april_6_Phase_2.pkl\",protocol = -1)\n"
   ]
  },
  {
   "cell_type": "code",
   "execution_count": null,
   "metadata": {},
   "outputs": [],
   "source": []
  },
  {
   "cell_type": "code",
   "execution_count": null,
   "metadata": {},
   "outputs": [],
   "source": []
  }
 ],
 "metadata": {
  "kernelspec": {
   "display_name": "Python 3",
   "language": "python",
   "name": "python3"
  },
  "language_info": {
   "codemirror_mode": {
    "name": "ipython",
    "version": 3
   },
   "file_extension": ".py",
   "mimetype": "text/x-python",
   "name": "python",
   "nbconvert_exporter": "python",
   "pygments_lexer": "ipython3",
   "version": "3.7.0"
  }
 },
 "nbformat": 4,
 "nbformat_minor": 2
}
