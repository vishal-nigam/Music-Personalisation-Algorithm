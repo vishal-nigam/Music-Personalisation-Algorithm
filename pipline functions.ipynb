{
 "cells": [
  {
   "cell_type": "code",
   "execution_count": 1,
   "metadata": {},
   "outputs": [],
   "source": [
    "import librosa\n",
    "import pandas as pd\n",
    "import numpy as np"
   ]
  },
  {
   "cell_type": "markdown",
   "metadata": {},
   "source": [
    "## Load song"
   ]
  },
  {
   "cell_type": "code",
   "execution_count": 11,
   "metadata": {},
   "outputs": [],
   "source": [
    "#input parameters=1  : Path of the song\n",
    "#output = 2 : Array(NxN), sampling rate\n",
    "\n",
    "def loadsong(song_path):\n",
    "    y, sr = librosa.load(song_path)\n",
    "    return y"
   ]
  },
  {
   "cell_type": "markdown",
   "metadata": {},
   "source": [
    "# Feature Extraction Functions"
   ]
  },
  {
   "cell_type": "markdown",
   "metadata": {},
   "source": [
    "### chroma stft"
   ]
  },
  {
   "cell_type": "code",
   "execution_count": 3,
   "metadata": {},
   "outputs": [],
   "source": [
    "#input parameters=1  : Song matrix\n",
    "#output = 1 : chroma stft\n",
    "\n",
    "def chroma_stft(y):\n",
    "    chroma_stft = librosa.feature.chroma_stft(y)\n",
    "    return chroma_stft"
   ]
  },
  {
   "cell_type": "markdown",
   "metadata": {},
   "source": [
    "### Notes in a song"
   ]
  },
  {
   "cell_type": "markdown",
   "metadata": {},
   "source": [
    "#### class notes :\n",
    "\n",
    "the class notes contains all the function we require for note extraction and manipulation\n",
    "\n",
    "Function are listed below:\n",
    "1. extract_notes: \n",
    "    input arg: song array\n",
    "    output: matrix of Nx2\n",
    "    \n",
    "2. tonic_chord:\n",
    "    input arg: song array\n",
    "    output: chord of the song (single value)"
   ]
  },
  {
   "cell_type": "code",
   "execution_count": 16,
   "metadata": {},
   "outputs": [],
   "source": [
    "notes_dict = {'0': 'C', '1': 'C#', '2': 'D','3': 'D#','4': 'E','5': 'F','6': 'F#','7': 'G','8': 'G#','9': 'A','10': 'A#','11': 'B'}\n",
    "\n",
    "class notes:   \n",
    "    def extract_notes(y):\n",
    "\n",
    "        #filtering the array before loading to librosa\n",
    "        y_harm = librosa.effects.harmonic(y=y)\n",
    "        chroma_os_harm = librosa.feature.chroma_cqt(y=y_harm, bins_per_octave=12*3)\n",
    "\n",
    "        chroma_filter = np.minimum(chroma_os_harm,librosa.decompose.nn_filter(chroma_os_harm,aggregate=np.median,metric='cosine'))\n",
    "        chroma_smooth = scipy.ndimage.median_filter(chroma_filter, size=(1, 9))\n",
    "\n",
    "        #creating an array of dominant notes of a particular frame\n",
    "        note_list=[]\n",
    "        for i in range(len(chroma_smooth[0])):\n",
    "            max_val = max(chroma_smooth[0][i], chroma_smooth[1][i], chroma_smooth[2][i], chroma_smooth[3][i], chroma_smooth[4][i], chroma_smooth[5][i], chroma_smooth[6][i], chroma_smooth[7][i], chroma_smooth[8][i], chroma_smooth[9][i], chroma_smooth[10][i], chroma_smooth[11][i])\n",
    "            for j in range(12):\n",
    "                if max_val == chroma_smooth[j][i]:\n",
    "                    note_list+=(notes_dict[str(j)])\n",
    "\n",
    "        #list correction\n",
    "        i=0\n",
    "        updated_list =[]\n",
    "        while(i<len(note_list)-1):\n",
    "            if note_list[i+1]=='#':\n",
    "                updated_list.append(str(note_list[i])+str('#'))\n",
    "                i+=1\n",
    "            else:\n",
    "                updated_list.append(note_list[i])\n",
    "            i+=1\n",
    "\n",
    "        #creating a data structure\n",
    "        data_sequence = []\n",
    "        length = len(updated_list)\n",
    "        i=0\n",
    "        while(i!=length-2):\n",
    "            count=1\n",
    "            while(updated_list[i]==updated_list[i+1] and i!=length-3):\n",
    "                count+=1\n",
    "                i+=1\n",
    "            if i==length-3:\n",
    "                data_sequence.append([updated_list[i],count+2])\n",
    "            else:\n",
    "                data_sequence.append([updated_list[i],count])\n",
    "            i+=1\n",
    "\n",
    "        return data_sequence\n",
    "    \n",
    "    def tonic_chord(y):\n",
    "        y_harm = librosa.effects.harmonic(y=y)\n",
    "        chroma_os_harm = librosa.feature.chroma_cqt(y=y_harm, bins_per_octave=12*3)\n",
    "\n",
    "        chroma_filter = np.minimum(chroma_os_harm,librosa.decompose.nn_filter(chroma_os_harm,aggregate=np.median,metric='cosine'))\n",
    "        chroma_smooth = scipy.ndimage.median_filter(chroma_filter, size=(1, 9))\n",
    "\n",
    "        note_list=[]\n",
    "        for i in range(len(chroma_smooth[0])):\n",
    "            max_val = max(chroma_smooth[0][i], chroma_smooth[1][i], chroma_smooth[2][i], chroma_smooth[3][i], chroma_smooth[4][i], chroma_smooth[5][i], chroma_smooth[6][i], chroma_smooth[7][i], chroma_smooth[8][i], chroma_smooth[9][i], chroma_smooth[10][i], chroma_smooth[11][i])\n",
    "            for j in range(12):\n",
    "                if max_val == chroma_smooth[j][i]:\n",
    "                    note_list+=(notes_dict[str(j)])\n",
    "\n",
    "        i=0\n",
    "        updated_list =[]\n",
    "        while(i<len(note_list)-1):\n",
    "            if note_list[i+1]=='#':\n",
    "                updated_list.append(str(note_list[i])+str('#'))\n",
    "                i+=1\n",
    "            else:\n",
    "                updated_list.append(note_list[i])\n",
    "            i+=1\n",
    "\n",
    "        data = Counter(updated_list)\n",
    "        new = data.most_common(1)\n",
    "        note = new[0][0]"
   ]
  },
  {
   "cell_type": "code",
   "execution_count": 13,
   "metadata": {},
   "outputs": [],
   "source": [
    "y = loadsong(r\"C:\\Users\\Mahip\\Documents\\songdata\\EDM\\girl_like_you.mp3\")"
   ]
  },
  {
   "cell_type": "markdown",
   "metadata": {},
   "source": [
    "## MFCC\n",
    "\n",
    "### notes:\n",
    "\n",
    "MFCC will give a matric of Nx20. The dataset will contain only one row of matix in one cell block\n",
    "i.e. MFCC will be divided into rows and then put each row in different column"
   ]
  },
  {
   "cell_type": "code",
   "execution_count": 19,
   "metadata": {},
   "outputs": [],
   "source": [
    "#input: song array\n",
    "#output: mfcc values as a matix of NxN\n",
    "\n",
    "\n",
    "\n",
    "def mfcc(y):\n",
    "    D = np.abs(librosa.stft(y))**2\n",
    "    S = librosa.feature.melspectrogram(S=D)\n",
    "    \n",
    "    return s"
   ]
  },
  {
   "cell_type": "markdown",
   "metadata": {},
   "source": [
    "## Beats correlation"
   ]
  },
  {
   "cell_type": "code",
   "execution_count": 20,
   "metadata": {},
   "outputs": [],
   "source": [
    "#input: song array\n",
    "#output: correlation values as a matix of NxN\n",
    "\n",
    "def beats_corelation(y):\n",
    "    hop_length = 200 # samples per frame\n",
    "    onset_env = librosa.onset.onset_strength(y, sr=sr, hop_length=hop_length, n_fft=2048)\n",
    "    \n",
    "    corelation = librosa.feature.tempogram(onset_envelope=onset_env, sr=sr, hop_length=hop_length, win_length=400)\n",
    "    return corelation"
   ]
  },
  {
   "cell_type": "code",
   "execution_count": 21,
   "metadata": {},
   "outputs": [],
   "source": [
    "def tempo(y):\n",
    "    tempo = librosa.beat.tempo(y, sr=sr)\n",
    "    return tempo"
   ]
  },
  {
   "cell_type": "markdown",
   "metadata": {},
   "source": [
    "## MFCC corelation"
   ]
  },
  {
   "cell_type": "code",
   "execution_count": 23,
   "metadata": {},
   "outputs": [],
   "source": [
    "#input: song array\n",
    "#output: correlation values as a matix of NxN\n",
    "\n",
    "def mfcc_corelation(y):\n",
    "    mfcc = mfcc(y)\n",
    "    corelaton = librosa.feature.delta(mfcc)\n",
    "    \n",
    "    return corelation"
   ]
  },
  {
   "cell_type": "code",
   "execution_count": null,
   "metadata": {},
   "outputs": [],
   "source": []
  }
 ],
 "metadata": {
  "kernelspec": {
   "display_name": "Python 3",
   "language": "python",
   "name": "python3"
  },
  "language_info": {
   "codemirror_mode": {
    "name": "ipython",
    "version": 3
   },
   "file_extension": ".py",
   "mimetype": "text/x-python",
   "name": "python",
   "nbconvert_exporter": "python",
   "pygments_lexer": "ipython3",
   "version": "3.7.3"
  }
 },
 "nbformat": 4,
 "nbformat_minor": 2
}
