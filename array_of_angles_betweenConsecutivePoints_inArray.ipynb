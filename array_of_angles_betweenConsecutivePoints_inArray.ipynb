{
 "cells": [
  {
   "cell_type": "code",
   "execution_count": 1,
   "metadata": {},
   "outputs": [],
   "source": [
    "import numpy as np\n",
    "from itertools import tee, islice, chain\n",
    "from math import atan2,degrees"
   ]
  },
  {
   "cell_type": "code",
   "execution_count": 2,
   "metadata": {},
   "outputs": [],
   "source": [
    "# Determines the angle of a straight line drawn between point one and two.\n",
    "def getAngleBetweenTwoPoints(p1x,p1y,p2x,p2y):\n",
    "    xDiff = p2x - p1x\n",
    "    yDiff = p2y - p1y\n",
    "    angle = degrees(atan2(yDiff, xDiff))\n",
    "    if(angle >= 0):\n",
    "        return angle\n",
    "    else:\n",
    "        return (angle+360)"
   ]
  },
  {
   "cell_type": "code",
   "execution_count": 3,
   "metadata": {},
   "outputs": [],
   "source": [
    "def getPreviousAndNext(iterable_data):\n",
    "    prevs, items, nexts = tee(iterable_data, 3)\n",
    "    prevs = chain([None], prevs)\n",
    "    nexts = chain(islice(nexts, 1, None), [None])\n",
    "    return zip(prevs, items, nexts)"
   ]
  },
  {
   "cell_type": "code",
   "execution_count": 4,
   "metadata": {},
   "outputs": [],
   "source": [
    "def getArrayOfAnglesBetweenConsecutivepointsInArray(iterable_data):\n",
    "    xx = 1\n",
    "    yy = 2\n",
    "    np_arr =  np.array([])\n",
    "    for previous, item, nxt in getPreviousAndNext(iterable_data):\n",
    "        if(nxt == None):\n",
    "            np_arr = np.append(np_arr,0)\n",
    "        else:\n",
    "            tempvar = getAngleBetweenTwoPoints(xx,item,yy,nxt)\n",
    "            np_arr = np.append(np_arr,tempvar)\n",
    "    return np_arr"
   ]
  },
  {
   "cell_type": "code",
   "execution_count": 5,
   "metadata": {},
   "outputs": [
    {
     "name": "stdout",
     "output_type": "stream",
     "text": [
      "<class 'numpy.ndarray'>\n"
     ]
    }
   ],
   "source": [
    "mylist = [1, 2, 0.78, 9.11,78.43]\n",
    "\n",
    "arr = np.asarray(mylist)\n",
    "print(type(arr))"
   ]
  },
  {
   "cell_type": "code",
   "execution_count": 6,
   "metadata": {},
   "outputs": [
    {
     "name": "stdout",
     "output_type": "stream",
     "text": [
      "[ 45.         309.34051816  83.15451436  89.17351694   0.        ]\n"
     ]
    }
   ],
   "source": [
    "print(getArrayOfAnglesBetweenConsecutivepointsInArray(arr))"
   ]
  },
  {
   "cell_type": "code",
   "execution_count": null,
   "metadata": {},
   "outputs": [],
   "source": []
  }
 ],
 "metadata": {
  "kernelspec": {
   "display_name": "Python 3",
   "language": "python",
   "name": "python3"
  },
  "language_info": {
   "codemirror_mode": {
    "name": "ipython",
    "version": 3
   },
   "file_extension": ".py",
   "mimetype": "text/x-python",
   "name": "python",
   "nbconvert_exporter": "python",
   "pygments_lexer": "ipython3",
   "version": "3.7.0"
  }
 },
 "nbformat": 4,
 "nbformat_minor": 2
}
