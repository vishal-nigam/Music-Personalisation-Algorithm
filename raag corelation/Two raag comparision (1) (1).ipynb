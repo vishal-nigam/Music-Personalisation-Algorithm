{
 "cells": [
  {
   "cell_type": "code",
   "execution_count": 1,
   "metadata": {},
   "outputs": [],
   "source": [
    "import pandas as pd\n",
    "import numpy as np\n",
    "import csv\n",
    "import librosa\n",
    "from scipy import signal\n",
    "from pathlib import Path\n",
    "from scipy.stats import pearsonr\n",
    "import matplotlib.pyplot as plt"
   ]
  },
  {
   "cell_type": "code",
   "execution_count": 2,
   "metadata": {},
   "outputs": [],
   "source": [
    "song1 = r\"C:\\Users\\Mahip\\Downloads\\yaman_raag\\Aansu Bhari Hai.mp3\"\n",
    "song2 = r\"C:\\Users\\Mahip\\Downloads\\yaman_raag\\Aaye Ho Meri Zindagi Mein.mp3\"\n",
    "song3= r\"C:\\Users\\Mahip\\Downloads\\yaman_raag\\Abhi na jao Chor kar.mp3\"\n",
    "song4= r\"C:\\Users\\Mahip\\Downloads\\yaman_raag\\Bhooli-Hui-Yaadon.mp3\"\n",
    "song5= r\"C:\\Users\\Mahip\\Downloads\\yaman_raag\\Chandan Sa Badan.mp3\"\n",
    "song6= r\"C:\\Users\\Mahip\\Downloads\\yaman_raag\\chhupa lo dil mein yun.mp3\"\n",
    "song7= r\"C:\\Users\\Mahip\\Downloads\\yaman_raag\\JA_RE_BADRA_BAIRI_JA.mp3\"\n",
    "song8= r\"C:\\Users\\Mahip\\Downloads\\yaman_raag\\Jiya_Le_Gayo_Ji_Mora_Sanwariya.mp3\"\n",
    "song9= r\"C:\\Users\\Mahip\\Downloads\\yaman_raag\\Man-Re-Tu-Kahe-Na.mp3\"\n",
    "song10 =  r\"C:\\Users\\Mahip\\Downloads\\yaman_raag\\Zindagi_ Bhar_ Nahin_Bhoolegi.mp3\"\n",
    "songlist = [song1,song2,song3,song4,song5,song6,song7,song8,song9,song10]"
   ]
  },
  {
   "cell_type": "code",
   "execution_count": 3,
   "metadata": {},
   "outputs": [],
   "source": [
    "ylist = [[] for i in range(10)]\n",
    "for i in range(10):\n",
    "    ylist[i], sr = librosa.load(songlist[i])\n",
    "    "
   ]
  },
  {
   "cell_type": "code",
   "execution_count": 4,
   "metadata": {},
   "outputs": [],
   "source": [
    "chromalist = [[] for i in range(10)]\n",
    "\n",
    "for i in range(10):\n",
    "    chromalist[i] = librosa.feature.chroma_stft(ylist[i])"
   ]
  },
  {
   "cell_type": "code",
   "execution_count": 5,
   "metadata": {},
   "outputs": [],
   "source": [
    "def calculate_corrcoef(array1 , array2):\n",
    "    if(len(array1) > len(array2)):\n",
    "        number_of_zeros= len(array1) - len(array2)\n",
    "        new_array = np.pad(array2 , (0 , number_of_zeros) , 'constant')\n",
    "        \n",
    "        r , p = pearsonr(array1, new_array)\n",
    "        \n",
    "        \n",
    "        \n",
    "    else:\n",
    "        number_of_zeros = len(array2) - len(array1)\n",
    "        new_array= np.pad(array1 , (0 , number_of_zeros) , 'constant')\n",
    "        \n",
    "        r , p = pearsonr(new_array, array2)\n",
    "    \n",
    "    return r"
   ]
  },
  {
   "cell_type": "code",
   "execution_count": 6,
   "metadata": {},
   "outputs": [],
   "source": [
    "def plot_and_corelate(array1 , array2):\n",
    "    \n",
    "    corr = signal.correlate(array1 , array2)\n",
    "    \n",
    "    fig,axs = plt.subplots(3,1)\n",
    "    axs[0].plot(array1)\n",
    "    axs[0].set_ylabel('Original')\n",
    "    axs[1].plot(array2)\n",
    "    axs[1].set_ylabel('Mean')\n",
    "    axs[2].plot(corr)\n",
    "    axs[2].set_ylabel('correlation')\n",
    "    \n",
    "    plt.show()\n",
    "    \n",
    "    print(calculate_corrcoef(array1 , array2))"
   ]
  },
  {
   "cell_type": "code",
   "execution_count": 7,
   "metadata": {},
   "outputs": [],
   "source": [
    "tempist=[]\n",
    "for i in range(12):\n",
    "    tempist.append(calculate_corrcoef(chromalist[0][i] , chromalist[9][i]))"
   ]
  },
  {
   "cell_type": "code",
   "execution_count": 8,
   "metadata": {},
   "outputs": [
    {
     "data": {
      "text/plain": [
       "[0.01955371055503401,\n",
       " 0.0076716286333969545,\n",
       " -0.0014988462147274852,\n",
       " -0.021529049577496528,\n",
       " -0.029638253983644065,\n",
       " -0.035105141359186194,\n",
       " 0.007245902470728818,\n",
       " -0.041968829001571596,\n",
       " -0.016588986829597998,\n",
       " -0.05263248980806072,\n",
       " -0.036294959666458654,\n",
       " -0.000254160293042229]"
      ]
     },
     "execution_count": 8,
     "metadata": {},
     "output_type": "execute_result"
    }
   ],
   "source": [
    "tempist"
   ]
  },
  {
   "cell_type": "code",
   "execution_count": 10,
   "metadata": {},
   "outputs": [],
   "source": [
    "df = pd.DataFrame(data=None)"
   ]
  },
  {
   "cell_type": "code",
   "execution_count": 11,
   "metadata": {},
   "outputs": [],
   "source": [
    "df[\"A-J\"]=tempist"
   ]
  },
  {
   "cell_type": "code",
   "execution_count": 12,
   "metadata": {},
   "outputs": [
    {
     "data": {
      "text/html": [
       "<div>\n",
       "<style scoped>\n",
       "    .dataframe tbody tr th:only-of-type {\n",
       "        vertical-align: middle;\n",
       "    }\n",
       "\n",
       "    .dataframe tbody tr th {\n",
       "        vertical-align: top;\n",
       "    }\n",
       "\n",
       "    .dataframe thead th {\n",
       "        text-align: right;\n",
       "    }\n",
       "</style>\n",
       "<table border=\"1\" class=\"dataframe\">\n",
       "  <thead>\n",
       "    <tr style=\"text-align: right;\">\n",
       "      <th></th>\n",
       "      <th>A-J</th>\n",
       "    </tr>\n",
       "  </thead>\n",
       "  <tbody>\n",
       "    <tr>\n",
       "      <th>0</th>\n",
       "      <td>0.019554</td>\n",
       "    </tr>\n",
       "    <tr>\n",
       "      <th>1</th>\n",
       "      <td>0.007672</td>\n",
       "    </tr>\n",
       "    <tr>\n",
       "      <th>2</th>\n",
       "      <td>-0.001499</td>\n",
       "    </tr>\n",
       "    <tr>\n",
       "      <th>3</th>\n",
       "      <td>-0.021529</td>\n",
       "    </tr>\n",
       "    <tr>\n",
       "      <th>4</th>\n",
       "      <td>-0.029638</td>\n",
       "    </tr>\n",
       "    <tr>\n",
       "      <th>5</th>\n",
       "      <td>-0.035105</td>\n",
       "    </tr>\n",
       "    <tr>\n",
       "      <th>6</th>\n",
       "      <td>0.007246</td>\n",
       "    </tr>\n",
       "    <tr>\n",
       "      <th>7</th>\n",
       "      <td>-0.041969</td>\n",
       "    </tr>\n",
       "    <tr>\n",
       "      <th>8</th>\n",
       "      <td>-0.016589</td>\n",
       "    </tr>\n",
       "    <tr>\n",
       "      <th>9</th>\n",
       "      <td>-0.052632</td>\n",
       "    </tr>\n",
       "    <tr>\n",
       "      <th>10</th>\n",
       "      <td>-0.036295</td>\n",
       "    </tr>\n",
       "    <tr>\n",
       "      <th>11</th>\n",
       "      <td>-0.000254</td>\n",
       "    </tr>\n",
       "  </tbody>\n",
       "</table>\n",
       "</div>"
      ],
      "text/plain": [
       "         A-J\n",
       "0   0.019554\n",
       "1   0.007672\n",
       "2  -0.001499\n",
       "3  -0.021529\n",
       "4  -0.029638\n",
       "5  -0.035105\n",
       "6   0.007246\n",
       "7  -0.041969\n",
       "8  -0.016589\n",
       "9  -0.052632\n",
       "10 -0.036295\n",
       "11 -0.000254"
      ]
     },
     "execution_count": 12,
     "metadata": {},
     "output_type": "execute_result"
    }
   ],
   "source": [
    "df"
   ]
  },
  {
   "cell_type": "code",
   "execution_count": 13,
   "metadata": {},
   "outputs": [
    {
     "data": {
      "text/plain": [
       "[<matplotlib.lines.Line2D at 0x164de24be48>]"
      ]
     },
     "execution_count": 13,
     "metadata": {},
     "output_type": "execute_result"
    },
    {
     "data": {
      "image/png": "[encoded data removed]",
      "text/plain": [
       "<Figure size 432x288 with 1 Axes>"
      ]
     },
     "metadata": {
      "needs_background": "light"
     },
     "output_type": "display_data"
    }
   ],
   "source": [
    "plt.plot(df, color=\"blue\") # blue line"
   ]
  },
  {
   "cell_type": "code",
   "execution_count": 14,
   "metadata": {},
   "outputs": [],
   "source": [
    "song1 = r\"C:\\Users\\Mahip\\Downloads\\bhairavi\\Do Hanso Ka Joda.mp3\"\n",
    "song2 = r\"C:\\Users\\Mahip\\Downloads\\bhairavi\\Film Street Singer.mp3\"\n",
    "song3 = r\"C:\\Users\\Mahip\\Downloads\\bhairavi\\Hansta Hua Noorani Chehra.mp3\"\n",
    "song4 = r\"C:\\Users\\Mahip\\Downloads\\bhairavi\\Humein Tumse Pyaar Kitna.mp3\"\n",
    "song5 = r\"C:\\Users\\Mahip\\Downloads\\bhairavi\\Ka Karoon Sajani.mp3\"\n",
    "song6 = r\"C:\\Users\\Mahip\\Downloads\\bhairavi\\Meethe Bol Bole.mp3\"\n",
    "song7 = r\"C:\\Users\\Mahip\\Downloads\\bhairavi\\Nache Man Mora.mp3\"\n",
    "song8 = r\"C:\\Users\\Mahip\\Downloads\\bhairavi\\suno chhoti si gudiya.mp3\"\n",
    "song9 = r\"C:\\Users\\Mahip\\Downloads\\bhairavi\\Tu ganga ki mauj.mp3\"\n",
    "song10 = r\"C:\\Users\\Mahip\\Downloads\\bhairavi\\Tumko Hamari Umar.mp3\"\n",
    "\n",
    "songlist1 = [song1,song2,song3,song4,song5,song6,song7,song8,song9,song10]"
   ]
  },
  {
   "cell_type": "code",
   "execution_count": 15,
   "metadata": {},
   "outputs": [],
   "source": [
    "ylist1 = [[] for i in range(10)]\n",
    "for i in range(10):\n",
    "    ylist1[i], sr = librosa.load(songlist1[i])\n",
    "\n",
    "chromalist1 = [[] for i in range(10)]\n",
    "\n",
    "for i in range(10):\n",
    "    chromalist1[i] = librosa.feature.chroma_stft(ylist1[i])"
   ]
  },
  {
   "cell_type": "code",
   "execution_count": 16,
   "metadata": {},
   "outputs": [],
   "source": [
    "df1 = pd.DataFrame(data=None)"
   ]
  },
  {
   "cell_type": "code",
   "execution_count": 17,
   "metadata": {},
   "outputs": [],
   "source": [
    "tempist=[]\n",
    "for i in range(12):\n",
    "    tempist.append(calculate_corrcoef(chromalist1[0][i] , chromalist1[9][i]))"
   ]
  },
  {
   "cell_type": "code",
   "execution_count": 18,
   "metadata": {},
   "outputs": [],
   "source": [
    "df1[\"A1-J1\"] = tempist"
   ]
  },
  {
   "cell_type": "code",
   "execution_count": 19,
   "metadata": {},
   "outputs": [
    {
     "data": {
      "text/html": [
       "<div>\n",
       "<style scoped>\n",
       "    .dataframe tbody tr th:only-of-type {\n",
       "        vertical-align: middle;\n",
       "    }\n",
       "\n",
       "    .dataframe tbody tr th {\n",
       "        vertical-align: top;\n",
       "    }\n",
       "\n",
       "    .dataframe thead th {\n",
       "        text-align: right;\n",
       "    }\n",
       "</style>\n",
       "<table border=\"1\" class=\"dataframe\">\n",
       "  <thead>\n",
       "    <tr style=\"text-align: right;\">\n",
       "      <th></th>\n",
       "      <th>A1-J1</th>\n",
       "    </tr>\n",
       "  </thead>\n",
       "  <tbody>\n",
       "    <tr>\n",
       "      <th>0</th>\n",
       "      <td>0.000816</td>\n",
       "    </tr>\n",
       "    <tr>\n",
       "      <th>1</th>\n",
       "      <td>-0.014522</td>\n",
       "    </tr>\n",
       "    <tr>\n",
       "      <th>2</th>\n",
       "      <td>-0.002278</td>\n",
       "    </tr>\n",
       "    <tr>\n",
       "      <th>3</th>\n",
       "      <td>-0.035939</td>\n",
       "    </tr>\n",
       "    <tr>\n",
       "      <th>4</th>\n",
       "      <td>-0.003337</td>\n",
       "    </tr>\n",
       "    <tr>\n",
       "      <th>5</th>\n",
       "      <td>-0.003700</td>\n",
       "    </tr>\n",
       "    <tr>\n",
       "      <th>6</th>\n",
       "      <td>-0.013030</td>\n",
       "    </tr>\n",
       "    <tr>\n",
       "      <th>7</th>\n",
       "      <td>-0.038193</td>\n",
       "    </tr>\n",
       "    <tr>\n",
       "      <th>8</th>\n",
       "      <td>-0.006254</td>\n",
       "    </tr>\n",
       "    <tr>\n",
       "      <th>9</th>\n",
       "      <td>-0.004999</td>\n",
       "    </tr>\n",
       "    <tr>\n",
       "      <th>10</th>\n",
       "      <td>0.043175</td>\n",
       "    </tr>\n",
       "    <tr>\n",
       "      <th>11</th>\n",
       "      <td>0.033673</td>\n",
       "    </tr>\n",
       "  </tbody>\n",
       "</table>\n",
       "</div>"
      ],
      "text/plain": [
       "       A1-J1\n",
       "0   0.000816\n",
       "1  -0.014522\n",
       "2  -0.002278\n",
       "3  -0.035939\n",
       "4  -0.003337\n",
       "5  -0.003700\n",
       "6  -0.013030\n",
       "7  -0.038193\n",
       "8  -0.006254\n",
       "9  -0.004999\n",
       "10  0.043175\n",
       "11  0.033673"
      ]
     },
     "execution_count": 19,
     "metadata": {},
     "output_type": "execute_result"
    }
   ],
   "source": [
    "df1"
   ]
  },
  {
   "cell_type": "code",
   "execution_count": 20,
   "metadata": {},
   "outputs": [
    {
     "data": {
      "text/plain": [
       "[<matplotlib.lines.Line2D at 0x16480501cf8>]"
      ]
     },
     "execution_count": 20,
     "metadata": {},
     "output_type": "execute_result"
    },
    {
     "data": {
      "image/png": "[encoded data removed]",
      "text/plain": [
       "<Figure size 432x288 with 1 Axes>"
      ]
     },
     "metadata": {
      "needs_background": "light"
     },
     "output_type": "display_data"
    }
   ],
   "source": [
    "plt.plot(df1, color=\"red\")"
   ]
  },
  {
   "cell_type": "code",
   "execution_count": 21,
   "metadata": {},
   "outputs": [
    {
     "data": {
      "text/plain": [
       "[<matplotlib.lines.Line2D at 0x16480593e48>]"
      ]
     },
     "execution_count": 21,
     "metadata": {},
     "output_type": "execute_result"
    },
    {
     "data": {
      "image/png": "[encoded data removed]",
      "text/plain": [
       "<Figure size 432x288 with 2 Axes>"
      ]
     },
     "metadata": {
      "needs_background": "light"
     },
     "output_type": "display_data"
    }
   ],
   "source": [
    "fig, axs = plt.subplots(2,1)\n",
    "axs[0].plot(df , color='blue')\n",
    "axs[0].plot(df1 , color='red')\n"
   ]
  },
  {
   "cell_type": "code",
   "execution_count": 22,
   "metadata": {},
   "outputs": [
    {
     "data": {
      "text/plain": [
       "<matplotlib.legend.Legend at 0x164805e5588>"
      ]
     },
     "execution_count": 22,
     "metadata": {},
     "output_type": "execute_result"
    },
    {
     "data": {
      "image/png": "[encoded data removed]",
      "text/plain": [
       "<Figure size 432x288 with 1 Axes>"
      ]
     },
     "metadata": {
      "needs_background": "light"
     },
     "output_type": "display_data"
    }
   ],
   "source": [
    "ax = df.plot(color='blue')\n",
    "df1.plot(ax=ax, color='red')\n",
    "plt.legend(bbox_to_anchor=(1.05, 1), loc=2, borderaxespad=0.)"
   ]
  },
  {
   "cell_type": "code",
   "execution_count": 23,
   "metadata": {},
   "outputs": [],
   "source": [
    "df2 = pd.DataFrame(data=None)"
   ]
  },
  {
   "cell_type": "code",
   "execution_count": 55,
   "metadata": {},
   "outputs": [],
   "source": [
    "tempist=[]\n",
    "for i in range(12):\n",
    "    tempist.append(calculate_corrcoef(chromalist1[0][i] , chromalist1[9][i]))"
   ]
  },
  {
   "cell_type": "code",
   "execution_count": 56,
   "metadata": {},
   "outputs": [],
   "source": [
    "df2[\"A-J1\"] = tempist"
   ]
  },
  {
   "cell_type": "code",
   "execution_count": 57,
   "metadata": {},
   "outputs": [
    {
     "data": {
      "text/html": [
       "<div>\n",
       "<style scoped>\n",
       "    .dataframe tbody tr th:only-of-type {\n",
       "        vertical-align: middle;\n",
       "    }\n",
       "\n",
       "    .dataframe tbody tr th {\n",
       "        vertical-align: top;\n",
       "    }\n",
       "\n",
       "    .dataframe thead th {\n",
       "        text-align: right;\n",
       "    }\n",
       "</style>\n",
       "<table border=\"1\" class=\"dataframe\">\n",
       "  <thead>\n",
       "    <tr style=\"text-align: right;\">\n",
       "      <th></th>\n",
       "      <th>A-A1</th>\n",
       "      <th>A-B1</th>\n",
       "      <th>A-C1</th>\n",
       "      <th>A-D1</th>\n",
       "      <th>A-E1</th>\n",
       "      <th>A-F1</th>\n",
       "      <th>A-G1</th>\n",
       "      <th>A-H1</th>\n",
       "      <th>A-I1</th>\n",
       "      <th>A-J1</th>\n",
       "    </tr>\n",
       "  </thead>\n",
       "  <tbody>\n",
       "    <tr>\n",
       "      <th>0</th>\n",
       "      <td>1.0</td>\n",
       "      <td>-0.042169</td>\n",
       "      <td>0.004304</td>\n",
       "      <td>-0.010717</td>\n",
       "      <td>0.036176</td>\n",
       "      <td>0.011499</td>\n",
       "      <td>0.044728</td>\n",
       "      <td>0.016679</td>\n",
       "      <td>0.038164</td>\n",
       "      <td>0.000816</td>\n",
       "    </tr>\n",
       "    <tr>\n",
       "      <th>1</th>\n",
       "      <td>1.0</td>\n",
       "      <td>0.045316</td>\n",
       "      <td>0.042121</td>\n",
       "      <td>-0.060170</td>\n",
       "      <td>-0.032734</td>\n",
       "      <td>-0.006454</td>\n",
       "      <td>-0.029228</td>\n",
       "      <td>0.005385</td>\n",
       "      <td>-0.018070</td>\n",
       "      <td>-0.014522</td>\n",
       "    </tr>\n",
       "    <tr>\n",
       "      <th>2</th>\n",
       "      <td>1.0</td>\n",
       "      <td>-0.010123</td>\n",
       "      <td>0.012166</td>\n",
       "      <td>-0.008805</td>\n",
       "      <td>0.029034</td>\n",
       "      <td>0.030227</td>\n",
       "      <td>-0.014074</td>\n",
       "      <td>-0.010092</td>\n",
       "      <td>-0.028229</td>\n",
       "      <td>-0.002278</td>\n",
       "    </tr>\n",
       "    <tr>\n",
       "      <th>3</th>\n",
       "      <td>1.0</td>\n",
       "      <td>-0.026782</td>\n",
       "      <td>0.034015</td>\n",
       "      <td>-0.054342</td>\n",
       "      <td>0.014078</td>\n",
       "      <td>0.036863</td>\n",
       "      <td>-0.006136</td>\n",
       "      <td>-0.001015</td>\n",
       "      <td>-0.033036</td>\n",
       "      <td>-0.035939</td>\n",
       "    </tr>\n",
       "    <tr>\n",
       "      <th>4</th>\n",
       "      <td>1.0</td>\n",
       "      <td>-0.008657</td>\n",
       "      <td>-0.024747</td>\n",
       "      <td>-0.008623</td>\n",
       "      <td>0.009500</td>\n",
       "      <td>0.060629</td>\n",
       "      <td>-0.057562</td>\n",
       "      <td>-0.008755</td>\n",
       "      <td>-0.025443</td>\n",
       "      <td>-0.003337</td>\n",
       "    </tr>\n",
       "    <tr>\n",
       "      <th>5</th>\n",
       "      <td>1.0</td>\n",
       "      <td>0.003724</td>\n",
       "      <td>0.008664</td>\n",
       "      <td>0.033911</td>\n",
       "      <td>0.056129</td>\n",
       "      <td>0.030612</td>\n",
       "      <td>-0.043181</td>\n",
       "      <td>-0.008197</td>\n",
       "      <td>-0.007188</td>\n",
       "      <td>-0.003700</td>\n",
       "    </tr>\n",
       "    <tr>\n",
       "      <th>6</th>\n",
       "      <td>1.0</td>\n",
       "      <td>0.024932</td>\n",
       "      <td>-0.025464</td>\n",
       "      <td>-0.051099</td>\n",
       "      <td>0.064866</td>\n",
       "      <td>0.034898</td>\n",
       "      <td>-0.030214</td>\n",
       "      <td>-0.037288</td>\n",
       "      <td>-0.023673</td>\n",
       "      <td>-0.013030</td>\n",
       "    </tr>\n",
       "    <tr>\n",
       "      <th>7</th>\n",
       "      <td>1.0</td>\n",
       "      <td>0.019572</td>\n",
       "      <td>-0.013243</td>\n",
       "      <td>-0.013052</td>\n",
       "      <td>0.020110</td>\n",
       "      <td>0.022851</td>\n",
       "      <td>0.002509</td>\n",
       "      <td>-0.012106</td>\n",
       "      <td>0.004032</td>\n",
       "      <td>-0.038193</td>\n",
       "    </tr>\n",
       "    <tr>\n",
       "      <th>8</th>\n",
       "      <td>1.0</td>\n",
       "      <td>-0.014411</td>\n",
       "      <td>0.008147</td>\n",
       "      <td>-0.075502</td>\n",
       "      <td>0.023149</td>\n",
       "      <td>0.033601</td>\n",
       "      <td>-0.023568</td>\n",
       "      <td>0.031248</td>\n",
       "      <td>0.001466</td>\n",
       "      <td>-0.006254</td>\n",
       "    </tr>\n",
       "    <tr>\n",
       "      <th>9</th>\n",
       "      <td>1.0</td>\n",
       "      <td>-0.014521</td>\n",
       "      <td>0.037514</td>\n",
       "      <td>-0.067118</td>\n",
       "      <td>-0.011345</td>\n",
       "      <td>-0.000340</td>\n",
       "      <td>-0.010574</td>\n",
       "      <td>0.014399</td>\n",
       "      <td>-0.017502</td>\n",
       "      <td>-0.004999</td>\n",
       "    </tr>\n",
       "    <tr>\n",
       "      <th>10</th>\n",
       "      <td>1.0</td>\n",
       "      <td>0.015033</td>\n",
       "      <td>0.012100</td>\n",
       "      <td>0.005079</td>\n",
       "      <td>-0.001998</td>\n",
       "      <td>-0.001912</td>\n",
       "      <td>0.010956</td>\n",
       "      <td>0.037174</td>\n",
       "      <td>-0.025294</td>\n",
       "      <td>0.043175</td>\n",
       "    </tr>\n",
       "    <tr>\n",
       "      <th>11</th>\n",
       "      <td>1.0</td>\n",
       "      <td>-0.039175</td>\n",
       "      <td>-0.015784</td>\n",
       "      <td>0.038070</td>\n",
       "      <td>0.034879</td>\n",
       "      <td>0.014762</td>\n",
       "      <td>0.020310</td>\n",
       "      <td>0.053076</td>\n",
       "      <td>0.037760</td>\n",
       "      <td>0.033673</td>\n",
       "    </tr>\n",
       "  </tbody>\n",
       "</table>\n",
       "</div>"
      ],
      "text/plain": [
       "    A-A1      A-B1      A-C1      A-D1      A-E1      A-F1      A-G1  \\\n",
       "0    1.0 -0.042169  0.004304 -0.010717  0.036176  0.011499  0.044728   \n",
       "1    1.0  0.045316  0.042121 -0.060170 -0.032734 -0.006454 -0.029228   \n",
       "2    1.0 -0.010123  0.012166 -0.008805  0.029034  0.030227 -0.014074   \n",
       "3    1.0 -0.026782  0.034015 -0.054342  0.014078  0.036863 -0.006136   \n",
       "4    1.0 -0.008657 -0.024747 -0.008623  0.009500  0.060629 -0.057562   \n",
       "5    1.0  0.003724  0.008664  0.033911  0.056129  0.030612 -0.043181   \n",
       "6    1.0  0.024932 -0.025464 -0.051099  0.064866  0.034898 -0.030214   \n",
       "7    1.0  0.019572 -0.013243 -0.013052  0.020110  0.022851  0.002509   \n",
       "8    1.0 -0.014411  0.008147 -0.075502  0.023149  0.033601 -0.023568   \n",
       "9    1.0 -0.014521  0.037514 -0.067118 -0.011345 -0.000340 -0.010574   \n",
       "10   1.0  0.015033  0.012100  0.005079 -0.001998 -0.001912  0.010956   \n",
       "11   1.0 -0.039175 -0.015784  0.038070  0.034879  0.014762  0.020310   \n",
       "\n",
       "        A-H1      A-I1      A-J1  \n",
       "0   0.016679  0.038164  0.000816  \n",
       "1   0.005385 -0.018070 -0.014522  \n",
       "2  -0.010092 -0.028229 -0.002278  \n",
       "3  -0.001015 -0.033036 -0.035939  \n",
       "4  -0.008755 -0.025443 -0.003337  \n",
       "5  -0.008197 -0.007188 -0.003700  \n",
       "6  -0.037288 -0.023673 -0.013030  \n",
       "7  -0.012106  0.004032 -0.038193  \n",
       "8   0.031248  0.001466 -0.006254  \n",
       "9   0.014399 -0.017502 -0.004999  \n",
       "10  0.037174 -0.025294  0.043175  \n",
       "11  0.053076  0.037760  0.033673  "
      ]
     },
     "execution_count": 57,
     "metadata": {},
     "output_type": "execute_result"
    }
   ],
   "source": [
    "df2"
   ]
  },
  {
   "cell_type": "code",
   "execution_count": null,
   "metadata": {},
   "outputs": [],
   "source": []
  }
 ],
 "metadata": {
  "kernelspec": {
   "display_name": "Python 3",
   "language": "python",
   "name": "python3"
  },
  "language_info": {
   "codemirror_mode": {
    "name": "ipython",
    "version": 3
   },
   "file_extension": ".py",
   "mimetype": "text/x-python",
   "name": "python",
   "nbconvert_exporter": "python",
   "pygments_lexer": "ipython3",
   "version": "3.7.1"
  }
 },
 "nbformat": 4,
 "nbformat_minor": 2
}
