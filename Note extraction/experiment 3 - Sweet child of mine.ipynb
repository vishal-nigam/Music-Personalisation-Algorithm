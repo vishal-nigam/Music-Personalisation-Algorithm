{
 "cells": [
  {
   "cell_type": "code",
   "execution_count": 1,
   "metadata": {},
   "outputs": [],
   "source": [
    "import pandas as pd\n",
    "import numpy as np\n",
    "import librosa\n",
    "import pathlib as path\n",
    "import librosa.display\n",
    "import matplotlib.pyplot as plt\n",
    "import scipy\n",
    "from collections import Counter\n",
    "import collections"
   ]
  },
  {
   "cell_type": "code",
   "execution_count": 2,
   "metadata": {},
   "outputs": [],
   "source": [
    "song = r\"C:\\Users\\Mahip\\Documents\\songdata\\Rock\\Guns N39 Roses - Sweet Child O39 Mine.mp3\""
   ]
  },
  {
   "cell_type": "code",
   "execution_count": 3,
   "metadata": {},
   "outputs": [],
   "source": [
    "y1, sr = librosa.load(song,offset=30, duration=30)"
   ]
  },
  {
   "cell_type": "code",
   "execution_count": 4,
   "metadata": {},
   "outputs": [],
   "source": [
    "notes_dict = {'0': 'C', '1': 'C#', '2': 'D','3': 'D#','4': 'E','5': 'F','6': 'F#','7': 'G','8': 'G#','9': 'A','10': 'A#','11': 'B'}"
   ]
  },
  {
   "cell_type": "code",
   "execution_count": 5,
   "metadata": {},
   "outputs": [],
   "source": [
    "def extract_notes(y):\n",
    "\n",
    "    y_harm = librosa.effects.harmonic(y=y)\n",
    "    chroma_os_harm = librosa.feature.chroma_cqt(y=y_harm, sr=sr, bins_per_octave=12*3)\n",
    "\n",
    "    chroma_filter = np.minimum(chroma_os_harm,librosa.decompose.nn_filter(chroma_os_harm,aggregate=np.median,metric='cosine'))\n",
    "    chroma_smooth = scipy.ndimage.median_filter(chroma_filter, size=(1, 9))\n",
    "    \n",
    "    note_list=[]\n",
    "    for i in range(len(chroma_smooth[0])):\n",
    "        max_val = max(chroma_smooth[0][i], chroma_smooth[1][i], chroma_smooth[2][i], chroma_smooth[3][i], chroma_smooth[4][i], chroma_smooth[5][i], chroma_smooth[6][i], chroma_smooth[7][i], chroma_smooth[8][i], chroma_smooth[9][i], chroma_smooth[10][i], chroma_smooth[11][i])\n",
    "        for j in range(12):\n",
    "            if max_val == chroma_smooth[j][i]:\n",
    "                note_list+=(notes_dict[str(j)])\n",
    "                \n",
    "    i=0\n",
    "    updated_list =[]\n",
    "    while(i<len(note_list)-1):\n",
    "        if note_list[i+1]=='#':\n",
    "            updated_list.append(str(note_list[i])+str('#'))\n",
    "            i+=1\n",
    "        else:\n",
    "            updated_list.append(note_list[i])\n",
    "        i+=1\n",
    "    \n",
    "    data = Counter(updated_list)\n",
    "    new = data.most_common(1)\n",
    "    note = new[0][0]\n",
    "    \n",
    "    print('The Most comman notes is: ' + note)\n",
    "\n",
    "    data_sequence = []\n",
    "    length = len(updated_list)\n",
    "    i=0\n",
    "    while(i!=length-2):\n",
    "        count=1\n",
    "        while(updated_list[i]==updated_list[i+1] and i!=length-3):\n",
    "            count+=1\n",
    "            i+=1\n",
    "        if i==length-3:\n",
    "            data_sequence.append([updated_list[i],count+2])\n",
    "        else:\n",
    "            data_sequence.append([updated_list[i],count])\n",
    "        i+=1\n",
    "        \n",
    "    return data_sequence"
   ]
  },
  {
   "cell_type": "code",
   "execution_count": 6,
   "metadata": {},
   "outputs": [
    {
     "name": "stdout",
     "output_type": "stream",
     "text": [
      "The Most comman notes is: C#\n"
     ]
    }
   ],
   "source": [
    "extracted_notes_list = extract_notes(y1)"
   ]
  },
  {
   "cell_type": "code",
   "execution_count": 7,
   "metadata": {},
   "outputs": [],
   "source": [
    "from collections import defaultdict\n",
    "#find all notes\n",
    "def getCommmonNotes(loc, s):\n",
    "    substr = s[loc:]\n",
    "    i = -1\n",
    "    while(substr):\n",
    "        yield substr\n",
    "        substr = s[loc:i]\n",
    "        i -= 1\n",
    "        \n",
    "#find repetitive notes\n",
    "def longestNotesSequence(r):\n",
    "    occ = defaultdict(int)\n",
    "    for i in range(len(r)):\n",
    "        for sub in getCommmonNotes(i,r):\n",
    "            occ[sub] += 1\n",
    "    filtered = [k for k,v in occ.items() if v >= 2]\n",
    "    if filtered:\n",
    "        maxkey =  max(filtered, key=len) # Find longest string\n",
    "        return maxkey\n",
    "    else:\n",
    "        return \"No Notes\""
   ]
  },
  {
   "cell_type": "code",
   "execution_count": 8,
   "metadata": {},
   "outputs": [],
   "source": [
    "first_c= []\n",
    "\n",
    "for i in range(len(extracted_notes_list)):\n",
    "    first_c.append(extracted_notes_list[i][0])\n",
    "    \n",
    "first_c_tuple = tuple(first_c)"
   ]
  },
  {
   "cell_type": "code",
   "execution_count": 9,
   "metadata": {},
   "outputs": [],
   "source": [
    "period=100\n",
    "everyThousand= int(len(first_c_tuple)/period)\n",
    "commonNotes=[]\n",
    "\n",
    "for i in range(everyThousand):\n",
    "    start=i*period\n",
    "    end =(i+1)*period -1\n",
    "    overlap=longestNotesSequence(first_c_tuple[start:end])\n",
    "    if(len(overlap)<period):\n",
    "        commonNotes.append(overlap)\n",
    "            \n",
    "ctr = collections.Counter(commonNotes)"
   ]
  },
  {
   "cell_type": "code",
   "execution_count": 10,
   "metadata": {},
   "outputs": [
    {
     "data": {
      "text/html": [
       "<div>\n",
       "<style scoped>\n",
       "    .dataframe tbody tr th:only-of-type {\n",
       "        vertical-align: middle;\n",
       "    }\n",
       "\n",
       "    .dataframe tbody tr th {\n",
       "        vertical-align: top;\n",
       "    }\n",
       "\n",
       "    .dataframe thead th {\n",
       "        text-align: right;\n",
       "    }\n",
       "</style>\n",
       "<table border=\"1\" class=\"dataframe\">\n",
       "  <thead>\n",
       "    <tr style=\"text-align: right;\">\n",
       "      <th></th>\n",
       "      <th>Notes</th>\n",
       "      <th>Occurences</th>\n",
       "    </tr>\n",
       "  </thead>\n",
       "  <tbody>\n",
       "  </tbody>\n",
       "</table>\n",
       "</div>"
      ],
      "text/plain": [
       "Empty DataFrame\n",
       "Columns: [Notes, Occurences]\n",
       "Index: []"
      ]
     },
     "execution_count": 10,
     "metadata": {},
     "output_type": "execute_result"
    }
   ],
   "source": [
    "pd.set_option('display.max_rows',50)\n",
    "df = pd.DataFrame(list(ctr.items()),columns=['Notes','Occurences'])\n",
    "df.sort_values('Occurences',ascending=False)"
   ]
  },
  {
   "cell_type": "code",
   "execution_count": 11,
   "metadata": {},
   "outputs": [
    {
     "data": {
      "text/plain": [
       "[['C#', 35],\n",
       " ['G#', 6],\n",
       " ['F', 20],\n",
       " ['C#', 21],\n",
       " ['G#', 8],\n",
       " ['C#', 135],\n",
       " ['F#', 7],\n",
       " ['B', 140],\n",
       " ['A#', 3],\n",
       " ['C#', 5],\n",
       " ['A#', 2],\n",
       " ['C#', 1],\n",
       " ['D#', 6],\n",
       " ['E', 1],\n",
       " ['F#', 26],\n",
       " ['C#', 13],\n",
       " ['F#', 30],\n",
       " ['C#', 6],\n",
       " ['F#', 71],\n",
       " ['G#', 15],\n",
       " ['C#', 24],\n",
       " ['G#', 6],\n",
       " ['C#', 36],\n",
       " ['D#', 7],\n",
       " ['C#', 33],\n",
       " ['G#', 9],\n",
       " ['C#', 12],\n",
       " ['F#', 17],\n",
       " ['F', 22],\n",
       " ['C#', 5],\n",
       " ['G#', 34],\n",
       " ['C#', 9],\n",
       " ['G#', 6],\n",
       " ['C#', 9],\n",
       " ['G#', 9],\n",
       " ['C#', 30],\n",
       " ['G#', 12],\n",
       " ['C#', 31],\n",
       " ['G#', 15],\n",
       " ['F', 3],\n",
       " ['A#', 2],\n",
       " ['B', 92],\n",
       " ['F#', 2],\n",
       " ['D#', 26],\n",
       " ['B', 11],\n",
       " ['F', 8],\n",
       " ['E', 6],\n",
       " ['F', 17],\n",
       " ['C#', 2],\n",
       " ['F#', 80],\n",
       " ['C#', 7],\n",
       " ['F#', 53],\n",
       " ['B', 12],\n",
       " ['A#', 1],\n",
       " ['B', 3],\n",
       " ['C#', 26],\n",
       " ['G#', 6],\n",
       " ['C#', 35],\n",
       " ['G#', 19],\n",
       " ['C#', 4]]"
      ]
     },
     "execution_count": 11,
     "metadata": {},
     "output_type": "execute_result"
    }
   ],
   "source": [
    "extracted_notes_list"
   ]
  },
  {
   "cell_type": "code",
   "execution_count": 12,
   "metadata": {},
   "outputs": [
    {
     "name": "stdout",
     "output_type": "stream",
     "text": [
      "The Most comman notes is: C#\n"
     ]
    },
    {
     "data": {
      "text/plain": [
       "[['C#', 35],\n",
       " ['G#', 6],\n",
       " ['F', 20],\n",
       " ['C#', 21],\n",
       " ['G#', 8],\n",
       " ['C#', 135],\n",
       " ['F#', 7],\n",
       " ['B', 140],\n",
       " ['A#', 3],\n",
       " ['C#', 5],\n",
       " ['A#', 2],\n",
       " ['C#', 1],\n",
       " ['D#', 6],\n",
       " ['E', 1],\n",
       " ['F#', 26],\n",
       " ['C#', 13],\n",
       " ['F#', 30],\n",
       " ['C#', 6],\n",
       " ['F#', 71],\n",
       " ['G#', 15],\n",
       " ['C#', 24],\n",
       " ['G#', 6],\n",
       " ['C#', 36],\n",
       " ['D#', 7],\n",
       " ['C#', 33],\n",
       " ['G#', 9],\n",
       " ['C#', 12],\n",
       " ['F#', 17],\n",
       " ['F', 22],\n",
       " ['C#', 5],\n",
       " ['G#', 34],\n",
       " ['C#', 9],\n",
       " ['G#', 6],\n",
       " ['C#', 9],\n",
       " ['G#', 9],\n",
       " ['C#', 30],\n",
       " ['G#', 12],\n",
       " ['C#', 31],\n",
       " ['G#', 15],\n",
       " ['F', 3],\n",
       " ['A#', 2],\n",
       " ['B', 92],\n",
       " ['F#', 2],\n",
       " ['D#', 26],\n",
       " ['B', 11],\n",
       " ['F', 8],\n",
       " ['E', 6],\n",
       " ['F', 17],\n",
       " ['C#', 2],\n",
       " ['F#', 80],\n",
       " ['C#', 7],\n",
       " ['F#', 53],\n",
       " ['B', 12],\n",
       " ['A#', 1],\n",
       " ['B', 3],\n",
       " ['C#', 26],\n",
       " ['G#', 6],\n",
       " ['C#', 35],\n",
       " ['G#', 19],\n",
       " ['C#', 4]]"
      ]
     },
     "execution_count": 12,
     "metadata": {},
     "output_type": "execute_result"
    }
   ],
   "source": [
    "extract_notes(y1)"
   ]
  },
  {
   "cell_type": "code",
   "execution_count": null,
   "metadata": {},
   "outputs": [],
   "source": []
  }
 ],
 "metadata": {
  "kernelspec": {
   "display_name": "Python 3",
   "language": "python",
   "name": "python3"
  },
  "language_info": {
   "codemirror_mode": {
    "name": "ipython",
    "version": 3
   },
   "file_extension": ".py",
   "mimetype": "text/x-python",
   "name": "python",
   "nbconvert_exporter": "python",
   "pygments_lexer": "ipython3",
   "version": "3.7.3"
  }
 },
 "nbformat": 4,
 "nbformat_minor": 2
}
